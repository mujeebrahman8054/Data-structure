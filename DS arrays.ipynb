{
 "cells": [
  {
   "cell_type": "code",
   "execution_count": 1,
   "id": "f0137632",
   "metadata": {},
   "outputs": [],
   "source": [
    "#arrays"
   ]
  },
  {
   "cell_type": "code",
   "execution_count": 15,
   "id": "180454f0",
   "metadata": {},
   "outputs": [
    {
     "name": "stdout",
     "output_type": "stream",
     "text": [
      "[10, 20, 30, 40, 50]\n",
      "10\n",
      "40\n"
     ]
    }
   ],
   "source": [
    "import numpy\n",
    "a=[10,20,30,40,50]\n",
    "print(a)\n",
    "print(a[0])\n",
    "print(a[3])"
   ]
  },
  {
   "cell_type": "code",
   "execution_count": 20,
   "id": "c3a95adc",
   "metadata": {},
   "outputs": [
    {
     "name": "stdout",
     "output_type": "stream",
     "text": [
      "[50, 40, 30, 20, 10]\n"
     ]
    }
   ],
   "source": [
    "import numpy\n",
    "a=[10,20,30,40,50]\n",
    "x=a[::-1]\n",
    "c=numpy.array(x)\n",
    "print(x)"
   ]
  },
  {
   "cell_type": "code",
   "execution_count": 44,
   "id": "1ee0c90c",
   "metadata": {},
   "outputs": [
    {
     "data": {
      "text/plain": [
       "[array([10, 20, 30]), array([40, 50, 60])]"
      ]
     },
     "execution_count": 44,
     "metadata": {},
     "output_type": "execute_result"
    }
   ],
   "source": [
    "import numpy\n",
    "x=numpy.array([10,20,30,40,50,60])\n",
    "numpy.split(x,2)"
   ]
  },
  {
   "cell_type": "code",
   "execution_count": 50,
   "id": "54c04984",
   "metadata": {},
   "outputs": [
    {
     "name": "stdout",
     "output_type": "stream",
     "text": [
      "30.0\n"
     ]
    }
   ],
   "source": [
    "import numpy as np\n",
    "x=np.array([10,20,30,40,50])\n",
    "tot=0\n",
    "avg=0\n",
    "for i in x:\n",
    "    tot=tot+i\n",
    "avg=tot/len(x)\n",
    "print(avg)\n",
    "    "
   ]
  },
  {
   "cell_type": "code",
   "execution_count": 58,
   "id": "31590ff4",
   "metadata": {},
   "outputs": [
    {
     "name": "stdout",
     "output_type": "stream",
     "text": [
      "50\n"
     ]
    }
   ],
   "source": [
    "import numpy as np\n",
    "x=np.array([35,10,23,68,40,50])\n",
    "x.sort()\n",
    "print(x[-2])"
   ]
  },
  {
   "cell_type": "code",
   "execution_count": 59,
   "id": "8d17c135",
   "metadata": {},
   "outputs": [
    {
     "name": "stdout",
     "output_type": "stream",
     "text": [
      "10\n"
     ]
    }
   ],
   "source": [
    "import numpy as np\n",
    "x=np.array([35,10,23,68,40,50])\n",
    "x.sort()\n",
    "print(x[0])"
   ]
  },
  {
   "cell_type": "code",
   "execution_count": 60,
   "id": "8dedc859",
   "metadata": {},
   "outputs": [
    {
     "name": "stdout",
     "output_type": "stream",
     "text": [
      "68\n"
     ]
    }
   ],
   "source": [
    "import numpy as np\n",
    "x=np.array([35,10,23,68,40,50])\n",
    "x.sort()\n",
    "print(x[-1])"
   ]
  },
  {
   "cell_type": "code",
   "execution_count": 68,
   "id": "9915a02d",
   "metadata": {},
   "outputs": [
    {
     "name": "stdout",
     "output_type": "stream",
     "text": [
      "6\n"
     ]
    }
   ],
   "source": [
    "import numpy as np\n",
    "x=np.array([35,10,23,68,40,50])\n",
    "print(len(x))\n"
   ]
  },
  {
   "cell_type": "code",
   "execution_count": 82,
   "id": "bd3b7a12",
   "metadata": {},
   "outputs": [
    {
     "name": "stdout",
     "output_type": "stream",
     "text": [
      "even position : [35 23 40]\n",
      "odd position : [10 68 50]\n"
     ]
    }
   ],
   "source": [
    "import numpy as np\n",
    "x=np.array([35,10,23,68,40,50])\n",
    "a=x[::2]\n",
    "b=x[1::2]\n",
    "print(\"even position :\",a)\n",
    "print(\"odd position :\",b)"
   ]
  },
  {
   "cell_type": "markdown",
   "id": "606251d9",
   "metadata": {},
   "source": []
  },
  {
   "cell_type": "code",
   "execution_count": 87,
   "id": "eab6e848",
   "metadata": {},
   "outputs": [
    {
     "name": "stdout",
     "output_type": "stream",
     "text": [
      "[23]\n"
     ]
    }
   ],
   "source": [
    "import numpy as np\n",
    "x=np.array([35,10,23,68,40,50])\n",
    "print(x[2:3])"
   ]
  },
  {
   "cell_type": "code",
   "execution_count": 95,
   "id": "73c8f2fa",
   "metadata": {},
   "outputs": [
    {
     "data": {
      "text/plain": [
       "array([35, 10, 68, 40, 50])"
      ]
     },
     "execution_count": 95,
     "metadata": {},
     "output_type": "execute_result"
    }
   ],
   "source": [
    "import numpy as np\n",
    "x=np.array([35,10,23,68,40,50])\n",
    "np.delete(x,2)"
   ]
  },
  {
   "cell_type": "code",
   "execution_count": 96,
   "id": "840ffbd8",
   "metadata": {},
   "outputs": [
    {
     "name": "stdout",
     "output_type": "stream",
     "text": [
      "[35, 10, 23, 68, 40, 50]\n"
     ]
    }
   ],
   "source": [
    "import numpy as np\n",
    "x=np.array([35,10,23,68,40,50])\n",
    "a=list(x)\n",
    "print(a)"
   ]
  },
  {
   "cell_type": "code",
   "execution_count": 1,
   "id": "c45fa20e",
   "metadata": {},
   "outputs": [
    {
     "name": "stdout",
     "output_type": "stream",
     "text": [
      "6\n"
     ]
    }
   ],
   "source": [
    "import numpy as np\n",
    "x=np.array([35,10,23,68,40,50])\n",
    "a=len(x)\n",
    "print(a)"
   ]
  },
  {
   "cell_type": "code",
   "execution_count": 2,
   "id": "88192498",
   "metadata": {},
   "outputs": [
    {
     "name": "stdout",
     "output_type": "stream",
     "text": [
      "[50 40 68 23 10 35]\n"
     ]
    }
   ],
   "source": [
    "import numpy as np\n",
    "x=np.array([35,10,23,68,40,50])\n",
    "print(x[::-1])"
   ]
  },
  {
   "cell_type": "code",
   "execution_count": 13,
   "id": "6a39d865",
   "metadata": {},
   "outputs": [
    {
     "name": "stdout",
     "output_type": "stream",
     "text": [
      "[35 10 23 68 40 50 12]\n"
     ]
    }
   ],
   "source": [
    "import numpy as np\n",
    "x=np.array([35,10,23,68,40,50])\n",
    "a=np.append(x,[12])\n",
    "print(a)"
   ]
  },
  {
   "cell_type": "code",
   "execution_count": null,
   "id": "6cbb2cf2",
   "metadata": {},
   "outputs": [],
   "source": []
  },
  {
   "cell_type": "code",
   "execution_count": null,
   "id": "8b4b1525",
   "metadata": {},
   "outputs": [],
   "source": []
  }
 ],
 "metadata": {
  "kernelspec": {
   "display_name": "Python 3 (ipykernel)",
   "language": "python",
   "name": "python3"
  },
  "language_info": {
   "codemirror_mode": {
    "name": "ipython",
    "version": 3
   },
   "file_extension": ".py",
   "mimetype": "text/x-python",
   "name": "python",
   "nbconvert_exporter": "python",
   "pygments_lexer": "ipython3",
   "version": "3.9.12"
  }
 },
 "nbformat": 4,
 "nbformat_minor": 5
}
