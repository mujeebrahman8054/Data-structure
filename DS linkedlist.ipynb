{
 "cells": [
  {
   "cell_type": "code",
   "execution_count": 1,
   "id": "a8750a1e",
   "metadata": {},
   "outputs": [],
   "source": [
    "#linkedlist\n"
   ]
  },
  {
   "cell_type": "code",
   "execution_count": 6,
   "id": "495536de",
   "metadata": {},
   "outputs": [
    {
     "name": "stdout",
     "output_type": "stream",
     "text": [
      "<__main__.linkedlist object at 0x0000017232A8BA00>\n"
     ]
    }
   ],
   "source": [
    "class node:\n",
    "    def __init__(self,data):\n",
    "        self.data=data\n",
    "        self.next=None\n",
    "class linkedlist:\n",
    "    def __init__(self):\n",
    "        self.head=None\n",
    "lista=linkedlist()\n",
    "lista.head=node(10)\n",
    "second=node(20)\n",
    "third=node(30)\n",
    "lista.head.next=second\n",
    "second.next=third\n",
    "print(lista)"
   ]
  },
  {
   "cell_type": "code",
   "execution_count": 8,
   "id": "7a52c4c4",
   "metadata": {},
   "outputs": [
    {
     "name": "stdout",
     "output_type": "stream",
     "text": [
      "Given Linked List\n",
      "32 29 25 20 12 \n",
      "Reversed Linked List\n",
      "12 20 25 29 32 "
     ]
    }
   ],
   "source": [
    "class node:\n",
    "    def __init__(self,data):\n",
    "        self.data=data\n",
    "        self.next=None\n",
    "class linkedlist:\n",
    "    def __init__(self):\n",
    "        self.head=None\n",
    "     # Function to reverse the linked list\n",
    "    def reverse(self):\n",
    "        prev = None\n",
    "        current = self.head\n",
    "        while(current is not None):\n",
    "            next = current.next\n",
    "            current.next = prev\n",
    "            prev = current\n",
    "            current = next\n",
    "        self.head = prev\n",
    "  \n",
    "    # Function to insert a new node at the beginning\n",
    "    def push(self, new_data):\n",
    "        new_node = node(new_data)\n",
    "        new_node.next = self.head\n",
    "        self.head = new_node\n",
    "  \n",
    "    # Utility function to print the LinkedList\n",
    "    def printList(self):\n",
    "        temp = self.head\n",
    "        while(temp):\n",
    "            print (temp.data,end=\" \")\n",
    "            temp = temp.next      \n",
    "lista=linkedlist()\n",
    "lista.push(12)\n",
    "lista.push(20)\n",
    "lista.push(25)\n",
    "lista.push(29)\n",
    "lista.push(32)\n",
    "print (\"Given Linked List\")\n",
    "lista.printList()\n",
    "lista.reverse()\n",
    "print (\"\\nReversed Linked List\")\n",
    "lista.printList()"
   ]
  },
  {
   "cell_type": "code",
   "execution_count": 10,
   "id": "1fcd897f",
   "metadata": {},
   "outputs": [
    {
     "name": "stdout",
     "output_type": "stream",
     "text": [
      "10\n",
      "20\n",
      "30\n"
     ]
    }
   ],
   "source": [
    "class node:\n",
    "    def __init__(self,data):\n",
    "        self.data=data\n",
    "        self.next=None\n",
    "class linkedlist:\n",
    "    def __init__(self):\n",
    "        self.head=None\n",
    "    def printlist(self):\n",
    "        temp=self.head\n",
    "        while(temp):\n",
    "            print(temp.data)\n",
    "            temp=temp.next\n",
    "lista=linkedlist()\n",
    "lista.head=node(10)\n",
    "second=node(20)\n",
    "third=node(30)\n",
    "lista.head.next=second\n",
    "second.next=third\n",
    "lista.printlist()"
   ]
  },
  {
   "cell_type": "code",
   "execution_count": 11,
   "id": "1deb8558",
   "metadata": {},
   "outputs": [],
   "source": []
  },
  {
   "cell_type": "code",
   "execution_count": null,
   "id": "2f40f526",
   "metadata": {},
   "outputs": [],
   "source": [
    "\n"
   ]
  },
  {
   "cell_type": "code",
   "execution_count": null,
   "id": "a986d1fd",
   "metadata": {},
   "outputs": [],
   "source": []
  }
 ],
 "metadata": {
  "kernelspec": {
   "display_name": "Python 3 (ipykernel)",
   "language": "python",
   "name": "python3"
  },
  "language_info": {
   "codemirror_mode": {
    "name": "ipython",
    "version": 3
   },
   "file_extension": ".py",
   "mimetype": "text/x-python",
   "name": "python",
   "nbconvert_exporter": "python",
   "pygments_lexer": "ipython3",
   "version": "3.9.12"
  }
 },
 "nbformat": 4,
 "nbformat_minor": 5
}
