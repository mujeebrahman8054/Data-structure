{
 "cells": [
  {
   "cell_type": "code",
   "execution_count": 1,
   "id": "fe1f80b3",
   "metadata": {},
   "outputs": [],
   "source": [
    "#bubble sort"
   ]
  },
  {
   "cell_type": "code",
   "execution_count": 11,
   "id": "e1b9b04a",
   "metadata": {},
   "outputs": [
    {
     "ename": "SyntaxError",
     "evalue": "cannot assign to function call (1403053338.py, line 6)",
     "output_type": "error",
     "traceback": [
      "\u001b[1;36m  Input \u001b[1;32mIn [11]\u001b[1;36m\u001b[0m\n\u001b[1;33m    arr(j),arr(j+1)=arr(j+1),arr(j)\u001b[0m\n\u001b[1;37m    ^\u001b[0m\n\u001b[1;31mSyntaxError\u001b[0m\u001b[1;31m:\u001b[0m cannot assign to function call\n"
     ]
    }
   ],
   "source": [
    "def bubblesort(arr):\n",
    "    n=len(arr)\n",
    "    for i in ranage(n-1):\n",
    "        for j in range(0,n-i-1):\n",
    "            if(arr(j)>arr(j+1)):\n",
    "                arr(j),arr(j+1)=arr(j+1),arr(j)\n",
    "arr=[23,58,12,34,98,76,45]\n",
    "bubblesort(arr)\n",
    "print(\"sorted array is :\")\n",
    "for i in range(len(arr))\n",
    "print(\"% d\"% arr[i] end=\" \")"
   ]
  },
  {
   "cell_type": "code",
   "execution_count": 9,
   "id": "800b863f",
   "metadata": {},
   "outputs": [
    {
     "name": "stdout",
     "output_type": "stream",
     "text": [
      "Unsorted list is,\n",
      "[39, 12, 18, 85, 72, 10, 2, 18]\n",
      "Sorted Array is, \n",
      "[2, 10, 12, 18, 18, 39, 72, 85]\n"
     ]
    }
   ],
   "source": [
    "def bubblesort(elements):\n",
    "    \n",
    "# Looping from size of array from last index[-1] to index [0]\n",
    "    for n in range(len(elements)-1, 0, -1):\n",
    "        for i in range(n):\n",
    "\t        if elements[i] > elements[i + 1]:\n",
    "\t\t# swapping data if the element is less than next element in the array\n",
    "\t\t         elements[i], elements[i + 1] = elements[i + 1], elements[i]\n",
    "elements = [39,12,18,85,72,10,2,18]\n",
    "\n",
    "print(\"Unsorted list is,\")\n",
    "print( elements)\n",
    "bubblesort(elements)\n",
    "print(\"Sorted Array is, \")\n",
    "print(elements)\n"
   ]
  },
  {
   "cell_type": "code",
   "execution_count": 12,
   "id": "ab3c3554",
   "metadata": {},
   "outputs": [],
   "source": [
    "#insertion sort"
   ]
  },
  {
   "cell_type": "code",
   "execution_count": 16,
   "id": "9458c5e5",
   "metadata": {},
   "outputs": [
    {
     "name": "stdout",
     "output_type": "stream",
     "text": [
      "Sorted array is:\n",
      "8\n",
      "10\n",
      "23\n",
      "34\n",
      "56\n",
      "98\n"
     ]
    }
   ],
   "source": [
    "# Python program for implementation of Insertion Sort\n",
    "\n",
    "# Function to do insertion sort\n",
    "def insertionSort(arr):\n",
    "\n",
    "\t# Traverse through 1 to len(arr)\n",
    "\tfor i in range(1, len(arr)):\n",
    "\n",
    "\t\tkey = arr[i]\n",
    "\n",
    "\t\t# Move elements of arr[0..i-1], that are\n",
    "\t\t# greater than key, to one position ahead\n",
    "\t\t# of their current position\n",
    "\t\tj = i-1\n",
    "\t\twhile j >=0 and key < arr[j] :\n",
    "\t\t\t\tarr[j+1] = arr[j]\n",
    "\t\t\t\tj -= 1\n",
    "\t\tarr[j+1] = key\n",
    "\n",
    "\n",
    "# Driver code to test above\n",
    "arr = [10,98,34,56,23,8]\n",
    "insertionSort(arr)\n",
    "print (\"Sorted array is:\")\n",
    "for i in range(len(arr)):\n",
    "\tprint (arr[i])\n"
   ]
  },
  {
   "cell_type": "code",
   "execution_count": null,
   "id": "44008550",
   "metadata": {},
   "outputs": [],
   "source": [
    "# Python program for implementation of MergeSort\n",
    "\n",
    "# Merges two subarrays of arr[].\n",
    "# First subarray is arr[l..m]\n",
    "# Second subarray is arr[m+1..r]\n",
    "\n",
    "\n",
    "def merge(arr, l, m, r):\n",
    "    n1 = m - l + 1\n",
    "    n2 = r - m\n",
    "\n",
    "# create temp arrays\n",
    "    L = [0] * (n1)\n",
    "    R = [0] * (n2)\n",
    "\n",
    "# Copy data to temp arrays L[] and R[]\n",
    "    for i in range(0, n1):\n",
    "        L[i] = arr[l + i]\n",
    "\n",
    "    for j in range(0, n2):\n",
    "        R[j] = arr[m + 1 + j]\n",
    "\n",
    "# Merge the temp arrays back into arr[l..r]\n",
    "    i = 0 # Initial index of first subarray\n",
    "    j = 0 # Initial index of second subarray\n",
    "    k = l # Initial index of merged subarray\n",
    "\n",
    "    while i < n1 and j < n2:\n",
    "        if L[i] <= R[j]:\n",
    "            arr[k] = L[i]\n",
    "            i += 1\n",
    "        else:\n",
    "            arr[k] = R[j]\n",
    "            j += 1\n",
    "        k += 1\n",
    "\n",
    "# Copy the remaining elements of L[], if there\n",
    "# are any\n",
    "    while i < n1:\n",
    "        arr[k] = L[i]\n",
    "        i += 1\n",
    "        k += 1\n",
    "\n",
    "# Copy the remaining elements of R[], if there\n",
    "# are any\n",
    "    while j < n2:\n",
    "        arr[k] = R[j]\n",
    "        j += 1\n",
    "        k += 1\n",
    "\n",
    "# l is for left index and r is right index of the\n",
    "# sub-array of arr to be sorted\n",
    "\n",
    "\n",
    "def mergeSort(arr, l, r):\n",
    "    if l < r:\n",
    "\n",
    "# Same as (l+r)//2, but avoids overflow for\n",
    "# large l and h\n",
    "        m = l+(r-l)//2\n",
    "# Sort first and second halves\n",
    "        mergeSort(arr, l, m)\n",
    "        mergeSort(arr, m+1, r)\n",
    "        merge(arr, l, m, r)\n",
    "\n",
    "\n",
    "# Driver code to test above\n",
    "arr = [12, 11, 13, 5, 6, 7]\n",
    "n = len(arr)\n",
    "print(\"Given array is\")\n",
    "for i in range(n):\n",
    "    print(\"%d\" % arr[i],end=\" \")\n",
    "\n",
    "mergeSort(arr, 0, n-1)\n",
    "print(\"\\n\\nSorted array is\")\n",
    "for i in range(n):\n",
    "    print(\"%d\" % arr[i],end=\" \")\n",
    "\n",
    "\n"
   ]
  }
 ],
 "metadata": {
  "kernelspec": {
   "display_name": "Python 3 (ipykernel)",
   "language": "python",
   "name": "python3"
  },
  "language_info": {
   "codemirror_mode": {
    "name": "ipython",
    "version": 3
   },
   "file_extension": ".py",
   "mimetype": "text/x-python",
   "name": "python",
   "nbconvert_exporter": "python",
   "pygments_lexer": "ipython3",
   "version": "3.9.12"
  }
 },
 "nbformat": 4,
 "nbformat_minor": 5
}
